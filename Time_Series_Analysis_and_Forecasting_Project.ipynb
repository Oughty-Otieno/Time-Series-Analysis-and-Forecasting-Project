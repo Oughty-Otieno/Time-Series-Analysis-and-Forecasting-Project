{
  "nbformat": 4,
  "nbformat_minor": 0,
  "metadata": {
    "colab": {
      "name": "Time Series Analysis and Forecasting Project.ipynb",
      "provenance": [],
      "collapsed_sections": [],
      "toc_visible": true,
      "authorship_tag": "ABX9TyPMvzosgLcrLomUdLyI9MRF",
      "include_colab_link": true
    },
    "kernelspec": {
      "name": "python3",
      "display_name": "Python 3"
    },
    "language_info": {
      "name": "python"
    }
  },
  "cells": [
    {
      "cell_type": "markdown",
      "metadata": {
        "id": "view-in-github",
        "colab_type": "text"
      },
      "source": [
        "<a href=\"https://colab.research.google.com/github/Oughty-Otieno/Time-Series-Analysis-and-Forecasting-Project/blob/main/Time_Series_Analysis_and_Forecasting_Project.ipynb\" target=\"_parent\"><img src=\"https://colab.research.google.com/assets/colab-badge.svg\" alt=\"Open In Colab\"/></a>"
      ]
    },
    {
      "cell_type": "markdown",
      "source": [
        "# Problem statement\n",
        "\n",
        "Sweet Lift Taxi company has collected historical data on taxi orders at airports. To attract more\n",
        "drivers during peak hours, we need to predict the number of taxi orders for the next hour. Build a\n",
        "model for such a prediction.\n",
        "The RMSE metric on the test set should not be more than 48."
      ],
      "metadata": {
        "id": "WetqCGpafod_"
      }
    },
    {
      "cell_type": "markdown",
      "source": [
        "# Data Importation"
      ],
      "metadata": {
        "id": "uQ8Vf1Mmf-9e"
      }
    },
    {
      "cell_type": "code",
      "source": [
        "import pandas as pd\n",
        "import numpy as np\n",
        "\n"
      ],
      "metadata": {
        "id": "_aOYEC4lgDrG"
      },
      "execution_count": 1,
      "outputs": []
    },
    {
      "cell_type": "code",
      "source": [
        "data = pd.read_csv(\n",
        "    'https://bit.ly/3p1QPAv', index_col=[0], parse_dates=[0]\n",
        ")\n",
        "data.sort_index(inplace=True)\n",
        "\n",
        "data.head()"
      ],
      "metadata": {
        "colab": {
          "base_uri": "https://localhost:8080/",
          "height": 238
        },
        "id": "Anzi0jcZgKlS",
        "outputId": "6c0d4ad3-850f-4037-b157-6d980229ee35"
      },
      "execution_count": 2,
      "outputs": [
        {
          "output_type": "execute_result",
          "data": {
            "text/plain": [
              "                     num_orders\n",
              "datetime                       \n",
              "2018-03-01 00:00:00           9\n",
              "2018-03-01 00:10:00          14\n",
              "2018-03-01 00:20:00          28\n",
              "2018-03-01 00:30:00          20\n",
              "2018-03-01 00:40:00          32"
            ],
            "text/html": [
              "\n",
              "  <div id=\"df-9832c2a1-7417-4a92-9ef4-37613e319ab8\">\n",
              "    <div class=\"colab-df-container\">\n",
              "      <div>\n",
              "<style scoped>\n",
              "    .dataframe tbody tr th:only-of-type {\n",
              "        vertical-align: middle;\n",
              "    }\n",
              "\n",
              "    .dataframe tbody tr th {\n",
              "        vertical-align: top;\n",
              "    }\n",
              "\n",
              "    .dataframe thead th {\n",
              "        text-align: right;\n",
              "    }\n",
              "</style>\n",
              "<table border=\"1\" class=\"dataframe\">\n",
              "  <thead>\n",
              "    <tr style=\"text-align: right;\">\n",
              "      <th></th>\n",
              "      <th>num_orders</th>\n",
              "    </tr>\n",
              "    <tr>\n",
              "      <th>datetime</th>\n",
              "      <th></th>\n",
              "    </tr>\n",
              "  </thead>\n",
              "  <tbody>\n",
              "    <tr>\n",
              "      <th>2018-03-01 00:00:00</th>\n",
              "      <td>9</td>\n",
              "    </tr>\n",
              "    <tr>\n",
              "      <th>2018-03-01 00:10:00</th>\n",
              "      <td>14</td>\n",
              "    </tr>\n",
              "    <tr>\n",
              "      <th>2018-03-01 00:20:00</th>\n",
              "      <td>28</td>\n",
              "    </tr>\n",
              "    <tr>\n",
              "      <th>2018-03-01 00:30:00</th>\n",
              "      <td>20</td>\n",
              "    </tr>\n",
              "    <tr>\n",
              "      <th>2018-03-01 00:40:00</th>\n",
              "      <td>32</td>\n",
              "    </tr>\n",
              "  </tbody>\n",
              "</table>\n",
              "</div>\n",
              "      <button class=\"colab-df-convert\" onclick=\"convertToInteractive('df-9832c2a1-7417-4a92-9ef4-37613e319ab8')\"\n",
              "              title=\"Convert this dataframe to an interactive table.\"\n",
              "              style=\"display:none;\">\n",
              "        \n",
              "  <svg xmlns=\"http://www.w3.org/2000/svg\" height=\"24px\"viewBox=\"0 0 24 24\"\n",
              "       width=\"24px\">\n",
              "    <path d=\"M0 0h24v24H0V0z\" fill=\"none\"/>\n",
              "    <path d=\"M18.56 5.44l.94 2.06.94-2.06 2.06-.94-2.06-.94-.94-2.06-.94 2.06-2.06.94zm-11 1L8.5 8.5l.94-2.06 2.06-.94-2.06-.94L8.5 2.5l-.94 2.06-2.06.94zm10 10l.94 2.06.94-2.06 2.06-.94-2.06-.94-.94-2.06-.94 2.06-2.06.94z\"/><path d=\"M17.41 7.96l-1.37-1.37c-.4-.4-.92-.59-1.43-.59-.52 0-1.04.2-1.43.59L10.3 9.45l-7.72 7.72c-.78.78-.78 2.05 0 2.83L4 21.41c.39.39.9.59 1.41.59.51 0 1.02-.2 1.41-.59l7.78-7.78 2.81-2.81c.8-.78.8-2.07 0-2.86zM5.41 20L4 18.59l7.72-7.72 1.47 1.35L5.41 20z\"/>\n",
              "  </svg>\n",
              "      </button>\n",
              "      \n",
              "  <style>\n",
              "    .colab-df-container {\n",
              "      display:flex;\n",
              "      flex-wrap:wrap;\n",
              "      gap: 12px;\n",
              "    }\n",
              "\n",
              "    .colab-df-convert {\n",
              "      background-color: #E8F0FE;\n",
              "      border: none;\n",
              "      border-radius: 50%;\n",
              "      cursor: pointer;\n",
              "      display: none;\n",
              "      fill: #1967D2;\n",
              "      height: 32px;\n",
              "      padding: 0 0 0 0;\n",
              "      width: 32px;\n",
              "    }\n",
              "\n",
              "    .colab-df-convert:hover {\n",
              "      background-color: #E2EBFA;\n",
              "      box-shadow: 0px 1px 2px rgba(60, 64, 67, 0.3), 0px 1px 3px 1px rgba(60, 64, 67, 0.15);\n",
              "      fill: #174EA6;\n",
              "    }\n",
              "\n",
              "    [theme=dark] .colab-df-convert {\n",
              "      background-color: #3B4455;\n",
              "      fill: #D2E3FC;\n",
              "    }\n",
              "\n",
              "    [theme=dark] .colab-df-convert:hover {\n",
              "      background-color: #434B5C;\n",
              "      box-shadow: 0px 1px 3px 1px rgba(0, 0, 0, 0.15);\n",
              "      filter: drop-shadow(0px 1px 2px rgba(0, 0, 0, 0.3));\n",
              "      fill: #FFFFFF;\n",
              "    }\n",
              "  </style>\n",
              "\n",
              "      <script>\n",
              "        const buttonEl =\n",
              "          document.querySelector('#df-9832c2a1-7417-4a92-9ef4-37613e319ab8 button.colab-df-convert');\n",
              "        buttonEl.style.display =\n",
              "          google.colab.kernel.accessAllowed ? 'block' : 'none';\n",
              "\n",
              "        async function convertToInteractive(key) {\n",
              "          const element = document.querySelector('#df-9832c2a1-7417-4a92-9ef4-37613e319ab8');\n",
              "          const dataTable =\n",
              "            await google.colab.kernel.invokeFunction('convertToInteractive',\n",
              "                                                     [key], {});\n",
              "          if (!dataTable) return;\n",
              "\n",
              "          const docLinkHtml = 'Like what you see? Visit the ' +\n",
              "            '<a target=\"_blank\" href=https://colab.research.google.com/notebooks/data_table.ipynb>data table notebook</a>'\n",
              "            + ' to learn more about interactive tables.';\n",
              "          element.innerHTML = '';\n",
              "          dataTable['output_type'] = 'display_data';\n",
              "          await google.colab.output.renderOutput(dataTable, element);\n",
              "          const docLink = document.createElement('div');\n",
              "          docLink.innerHTML = docLinkHtml;\n",
              "          element.appendChild(docLink);\n",
              "        }\n",
              "      </script>\n",
              "    </div>\n",
              "  </div>\n",
              "  "
            ]
          },
          "metadata": {},
          "execution_count": 2
        }
      ]
    },
    {
      "cell_type": "code",
      "source": [
        "data.plot();"
      ],
      "metadata": {
        "colab": {
          "base_uri": "https://localhost:8080/",
          "height": 291
        },
        "id": "1jVGn6WBgbdn",
        "outputId": "8e48474d-261c-48a4-e358-85683ca0c11f"
      },
      "execution_count": 3,
      "outputs": [
        {
          "output_type": "display_data",
          "data": {
            "text/plain": [
              "<Figure size 432x288 with 1 Axes>"
            ],
            "image/png": "[encoded data removed]"
          },
          "metadata": {
            "needs_background": "light"
          }
        }
      ]
    },
    {
      "cell_type": "markdown",
      "source": [
        "# Resample the data\n"
      ],
      "metadata": {
        "id": "Zmn9p5COhiL_"
      }
    },
    {
      "cell_type": "code",
      "source": [
        "\n",
        "re=data['2018-03-01 00:00:00' : '2018-03-03 00:00:00'].resample('1H').sum()\n",
        "re.plot()"
      ],
      "metadata": {
        "colab": {
          "base_uri": "https://localhost:8080/",
          "height": 320
        },
        "id": "40bTKs4HhogV",
        "outputId": "6232536f-7a06-44d7-89b5-855d7cd92947"
      },
      "execution_count": 4,
      "outputs": [
        {
          "output_type": "execute_result",
          "data": {
            "text/plain": [
              "<matplotlib.axes._subplots.AxesSubplot at 0x7f7f141808d0>"
            ]
          },
          "metadata": {},
          "execution_count": 4
        },
        {
          "output_type": "display_data",
          "data": {
            "text/plain": [
              "<Figure size 432x288 with 1 Axes>"
            ],
            "image/png": "[encoded data removed]"
          },
          "metadata": {
            "needs_background": "light"
          }
        }
      ]
    },
    {
      "cell_type": "code",
      "source": [
        "re_data = data.resample('1H').sum()"
      ],
      "metadata": {
        "id": "y6OGdSpbhtOt"
      },
      "execution_count": 9,
      "outputs": []
    },
    {
      "cell_type": "code",
      "source": [
        "re_data.plot()"
      ],
      "metadata": {
        "id": "4ty68z9QmGpr",
        "colab": {
          "base_uri": "https://localhost:8080/",
          "height": 308
        },
        "outputId": "0c7bc841-ad05-4df0-9142-e0783fdae947"
      },
      "execution_count": 10,
      "outputs": [
        {
          "output_type": "execute_result",
          "data": {
            "text/plain": [
              "<matplotlib.axes._subplots.AxesSubplot at 0x7f7ef42c6150>"
            ]
          },
          "metadata": {},
          "execution_count": 10
        },
        {
          "output_type": "display_data",
          "data": {
            "text/plain": [
              "<Figure size 432x288 with 1 Axes>"
            ],
            "image/png": "[encoded data removed]"
          },
          "metadata": {
            "needs_background": "light"
          }
        }
      ]
    },
    {
      "cell_type": "markdown",
      "source": [
        "# Create Features"
      ],
      "metadata": {
        "id": "UJwV7mbbmYyh"
      }
    },
    {
      "cell_type": "code",
      "source": [
        "def make_features(data, rolling_mean_size):\n",
        "    data['day'] = data.index.day\n",
        "    data['dayofweek'] = data.index.dayofweek\n",
        "    data['rolling_mean'] = (\n",
        "        data['num_orders'].shift().rolling(rolling_mean_size).mean()\n",
        "    )\n",
        "\n",
        "\n",
        "\n",
        "make_features(re_data, 2)\n",
        "print(re_data.head(10))"
      ],
      "metadata": {
        "colab": {
          "base_uri": "https://localhost:8080/"
        },
        "id": "Af8YtL-Dr9Qe",
        "outputId": "6f78fe22-e841-4ad2-8be1-a3f60a5bfeb5"
      },
      "execution_count": 6,
      "outputs": [
        {
          "output_type": "stream",
          "name": "stdout",
          "text": [
            "                     num_orders  day  dayofweek  rolling_mean\n",
            "datetime                                                     \n",
            "2018-03-01 00:00:00         124    1          3           NaN\n",
            "2018-03-01 01:00:00          85    1          3           NaN\n",
            "2018-03-01 02:00:00          71    1          3         104.5\n",
            "2018-03-01 03:00:00          66    1          3          78.0\n",
            "2018-03-01 04:00:00          43    1          3          68.5\n",
            "2018-03-01 05:00:00           6    1          3          54.5\n",
            "2018-03-01 06:00:00          12    1          3          24.5\n",
            "2018-03-01 07:00:00          15    1          3           9.0\n",
            "2018-03-01 08:00:00          34    1          3          13.5\n",
            "2018-03-01 09:00:00          69    1          3          24.5\n"
          ]
        }
      ]
    },
    {
      "cell_type": "markdown",
      "source": [
        "# Clean up and splitting"
      ],
      "metadata": {
        "id": "9k0jcXbHw8hH"
      }
    },
    {
      "cell_type": "code",
      "source": [
        "from sklearn.model_selection import train_test_split\n",
        "from sklearn.linear_model import LinearRegression\n",
        "from sklearn.metrics import mean_absolute_error\n",
        "\n",
        "train, test = train_test_split(re_data, shuffle=False, test_size=0.1)\n",
        "train = train.dropna()\n",
        "\n",
        "print(train.shape)\n",
        "print(test.shape)"
      ],
      "metadata": {
        "colab": {
          "base_uri": "https://localhost:8080/"
        },
        "id": "gsN6n-VYw_51",
        "outputId": "e396d8df-81bb-4a05-ceff-fe59606cf203"
      },
      "execution_count": 7,
      "outputs": [
        {
          "output_type": "stream",
          "name": "stdout",
          "text": [
            "(3972, 4)\n",
            "(442, 4)\n"
          ]
        }
      ]
    },
    {
      "cell_type": "markdown",
      "source": [
        "# Modelling and prediction"
      ],
      "metadata": {
        "id": "2NFD-ZxEybzg"
      }
    },
    {
      "cell_type": "code",
      "source": [
        "features_train = train.drop(['num_orders'], axis=1)\n",
        "target_train = train['num_orders']\n",
        "features_test = test.drop(['num_orders'], axis=1)\n",
        "target_test = test['num_orders']\n",
        "\n",
        "model = LinearRegression()\n",
        "model.fit(features_train, target_train)\n",
        "\n",
        "pred_train = model.predict(features_train)\n",
        "pred_test = model.predict(features_test)\n",
        "\n",
        "print(\n",
        "    'MAE for the training set:', mean_absolute_error(target_train, pred_train)\n",
        ")\n",
        "print('MAE for the test set:', mean_absolute_error(target_test, pred_test))"
      ],
      "metadata": {
        "colab": {
          "base_uri": "https://localhost:8080/"
        },
        "id": "EhMy9fOCygXo",
        "outputId": "94e3cbfa-fe7d-47c2-dc11-2c58529e7841"
      },
      "execution_count": 8,
      "outputs": [
        {
          "output_type": "stream",
          "name": "stdout",
          "text": [
            "MAE for the training set: 25.43051191439183\n",
            "MAE for the test set: 45.05949743882254\n"
          ]
        }
      ]
    },
    {
      "cell_type": "code",
      "source": [
        "from sklearn.linear_model import LogisticRegression      # Logistic Regression Classifier\n",
        "from sklearn.tree import DecisionTreeClassifier          # Decision Tree Classifier\n",
        "from sklearn.svm import SVC                              # SVM Classifier\n",
        "from sklearn.naive_bayes import MultinomialNB            # Naive Bayes Classifier\n",
        "from sklearn.neighbors import KNeighborsClassifier       # KNN Classifier\n",
        "\n",
        "# Ensemble classifiers\n",
        "from sklearn.ensemble import BaggingClassifier           # Bagging Meta-Estimator Classifier\n",
        "from sklearn.ensemble import RandomForestClassifier      # RandomForest Classifier \n",
        "from sklearn.ensemble import AdaBoostClassifier          # AdaBoost Classifier\n",
        "from sklearn.ensemble import GradientBoostingClassifier  # AdaBoost GradientBoostingClassifier\n",
        "import xgboost as xgb                                    # Importing the XGBoost library\n",
        "\n"
      ],
      "metadata": {
        "id": "Mf7hnwGyPVSb"
      },
      "execution_count": 11,
      "outputs": []
    },
    {
      "cell_type": "markdown",
      "source": [
        ""
      ],
      "metadata": {
        "id": "hWv8AeY-NOF_"
      }
    },
    {
      "cell_type": "code",
      "source": [
        "# Instantiating our models\n",
        "# ---\n",
        "#\n",
        "logistic_classifier = LogisticRegression(solver='saga', max_iter=800, multi_class='multinomial')\n",
        "decision_classifier = DecisionTreeClassifier(random_state=42)\n",
        "svm_classifier = SVC()\n",
        "knn_classifier = KNeighborsClassifier()\n",
        "naive_classifier = MultinomialNB() \n",
        "\n",
        "bagging_meta_classifier = BaggingClassifier()\n",
        "random_forest_classifier = RandomForestClassifier()\n",
        "ada_boost_classifier = AdaBoostClassifier(random_state=42)\n",
        "gbm_classifier = GradientBoostingClassifier(random_state=42) \n",
        "xg_boost_classifier = xgb.XGBClassifier() \n",
        "\n",
        "# Training our models\n",
        "# ---\n",
        "#  \n",
        "logistic_classifier.fit(features_train, target_train)\n",
        "decision_classifier.fit(features_train, target_train)\n",
        "svm_classifier.fit(features_train, target_train)\n",
        "knn_classifier.fit(features_train, target_train)\n",
        "naive_classifier.fit(features_train, target_train) \n",
        "\n",
        "bagging_meta_classifier.fit(features_train, target_train)\n",
        "random_forest_classifier.fit(features_train, target_train)\n",
        "ada_boost_classifier.fit(features_train, target_train)\n",
        "gbm_classifier.fit(features_train, target_train)\n",
        "xg_boost_classifier.fit(features_train, target_train)"
      ],
      "metadata": {
        "colab": {
          "base_uri": "https://localhost:8080/"
        },
        "id": "MDZ58X63P91H",
        "outputId": "9c612546-3eb6-4a67-9282-4b5b1a0dbdb8"
      },
      "execution_count": 12,
      "outputs": [
        {
          "output_type": "stream",
          "name": "stderr",
          "text": [
            "/usr/local/lib/python3.7/dist-packages/sklearn/linear_model/_sag.py:354: ConvergenceWarning: The max_iter was reached which means the coef_ did not converge\n",
            "  ConvergenceWarning,\n"
          ]
        },
        {
          "output_type": "execute_result",
          "data": {
            "text/plain": [
              "XGBClassifier(objective='multi:softprob')"
            ]
          },
          "metadata": {},
          "execution_count": 12
        }
      ]
    },
    {
      "cell_type": "code",
      "source": [
        "# Making predictions\n",
        "# ---\n",
        "#\n",
        "logistic_y_prediction = logistic_classifier.predict(features_test) \n",
        "decision_y_prediction = decision_classifier.predict(features_test) \n",
        "svm_y_prediction = svm_classifier.predict(features_test) \n",
        "knn_y_prediction = knn_classifier.predict(features_test) \n",
        "naive_y_prediction = naive_classifier.predict(features_test)  \n",
        "\n",
        "bagging_y_classifier = bagging_meta_classifier.predict(features_test) \n",
        "random_forest_y_classifier = random_forest_classifier.predict(features_test) \n",
        "ada_boost_y_classifier = ada_boost_classifier.predict(features_test)\n",
        "gbm_y_classifier = gbm_classifier.predict(features_test)\n",
        "xg_boost_y_classifier = xg_boost_classifier.predict(features_test)"
      ],
      "metadata": {
        "id": "Ie3aDH98Qhsu"
      },
      "execution_count": 13,
      "outputs": []
    },
    {
      "cell_type": "code",
      "source": [
        "# Evaluating the Models\n",
        "# ---\n",
        "from sklearn.metrics import classification_report, confusion_matrix, accuracy_score\n",
        "\n",
        "# Accuracy scores\n",
        "#\n",
        "print(\"Logistic Regression Classifier\", mean_absolute_error(logistic_y_prediction, target_test))\n",
        "print(\"Decision Trees Classifier\", mean_absolute_error(decision_y_prediction, target_test))\n",
        "print(\"SVN Classifier\", mean_absolute_error(svm_y_prediction, target_test))\n",
        "print(\"KNN Classifier\", mean_absolute_error(knn_y_prediction, target_test))\n",
        "print(\"Naive Bayes Classifier\", mean_absolute_error(naive_y_prediction, target_test))\n",
        " \n",
        "print(\"Bagging Classifier\", mean_absolute_error(bagging_y_classifier, target_test))\n",
        "print(\"Random Forest Classifier\", mean_absolute_error(random_forest_y_classifier, target_test))\n",
        "print(\"Ada Boost Classifier\", mean_absolute_error(ada_boost_y_classifier, target_test))\n",
        "print(\"GBM Classifier\", mean_absolute_error(gbm_y_classifier, target_test))\n",
        "print(\"XGBoost Classifier\", mean_absolute_error(xg_boost_y_classifier, target_test))"
      ],
      "metadata": {
        "colab": {
          "base_uri": "https://localhost:8080/"
        },
        "id": "Db2WjgE1Tw2H",
        "outputId": "1e8540b1-d140-4598-bcf1-c6bc09d97305"
      },
      "execution_count": 15,
      "outputs": [
        {
          "output_type": "stream",
          "name": "stdout",
          "text": [
            "Logistic Regression Classifier 59.744343891402714\n",
            "Decision Trees Classifier 61.71266968325792\n",
            "SVN Classifier 52.21493212669683\n",
            "KNN Classifier 76.93891402714932\n",
            "Naive Bayes Classifier 63.914027149321264\n",
            "Bagging Classifier 61.463800904977376\n",
            "Random Forest Classifier 65.72624434389141\n",
            "Ada Boost Classifier 53.55429864253394\n",
            "GBM Classifier 63.81674208144796\n",
            "XGBoost Classifier 54.047511312217196\n"
          ]
        }
      ]
    },
    {
      "cell_type": "markdown",
      "source": [
        "# Recomendation\n",
        "\n",
        "Of all the models used, only Linear regression met an MAE error below 48 as required in the problem statement. \n",
        "This was more of a continous value prediction, the other empirical classifiers have proved difficult."
      ],
      "metadata": {
        "id": "-jABP1ciUjIR"
      }
    }
  ]
}